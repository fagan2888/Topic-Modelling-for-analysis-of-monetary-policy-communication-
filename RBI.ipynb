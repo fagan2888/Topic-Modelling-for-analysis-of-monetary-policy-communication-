{
 "cells": [
  {
   "cell_type": "code",
   "execution_count": 12,
   "metadata": {},
   "outputs": [],
   "source": [
    "import gensim"
   ]
  },
  {
   "cell_type": "code",
   "execution_count": 13,
   "metadata": {},
   "outputs": [
    {
     "name": "stderr",
     "output_type": "stream",
     "text": [
      "[nltk_data] Downloading package punkt to /Users/shreya/nltk_data...\n",
      "[nltk_data]   Package punkt is already up-to-date!\n"
     ]
    }
   ],
   "source": [
    "import nltk\n",
    "nltk.download('punkt')\n",
    "import stop_words\n",
    "import pandas as pd \n",
    "import numpy as np"
   ]
  },
  {
   "cell_type": "code",
   "execution_count": 14,
   "metadata": {},
   "outputs": [],
   "source": [
    "from gensim import corpora, models, similarities\n",
    "from stop_words import get_stop_words\n",
    "en_stop = get_stop_words('en')"
   ]
  },
  {
   "cell_type": "code",
   "execution_count": 15,
   "metadata": {},
   "outputs": [
    {
     "name": "stdout",
     "output_type": "stream",
     "text": [
      "Requirement already satisfied: lda in ./anaconda3/lib/python3.7/site-packages (1.1.0)\n",
      "Requirement already satisfied: pbr<4,>=0.6 in ./anaconda3/lib/python3.7/site-packages (from lda) (3.1.1)\n",
      "Requirement already satisfied: numpy<2.0,>=1.13.0 in ./anaconda3/lib/python3.7/site-packages (from lda) (1.15.4)\n"
     ]
    }
   ],
   "source": [
    "!pip install lda\n",
    "import lda"
   ]
  },
  {
   "cell_type": "code",
   "execution_count": 16,
   "metadata": {},
   "outputs": [],
   "source": [
    "import matplotlib.pyplot as plt "
   ]
  },
  {
   "cell_type": "code",
   "execution_count": 17,
   "metadata": {},
   "outputs": [],
   "source": [
    "from gensim.corpora.dictionary import Dictionary\n",
    "from nltk.tokenize import RegexpTokenizer\n",
    "from nltk.stem.snowball import SnowballStemmer\n",
    "\n",
    "tokenizer = RegexpTokenizer(r'\\w+')\n",
    "stemmer=  SnowballStemmer(\"english\")\n"
   ]
  },
  {
   "cell_type": "code",
   "execution_count": 18,
   "metadata": {},
   "outputs": [],
   "source": [
    "from gensim import corpora, models"
   ]
  },
  {
   "cell_type": "code",
   "execution_count": 19,
   "metadata": {},
   "outputs": [
    {
     "name": "stdout",
     "output_type": "stream",
     "text": [
      "Requirement already satisfied: PyPDF2 in ./anaconda3/lib/python3.7/site-packages (1.26.0)\r\n"
     ]
    }
   ],
   "source": [
    "!pip install PyPDF2"
   ]
  },
  {
   "cell_type": "code",
   "execution_count": 21,
   "metadata": {},
   "outputs": [],
   "source": [
    "#importing the report  \n",
    "import PyPDF2 \n",
    "pdfFileObj = open('MPC_first.pdf', 'rb') \n",
    "pdfReader = PyPDF2.PdfFileReader(pdfFileObj)   \n",
    "# printing number of pages in pdf file \n",
    "num = (pdfReader.numPages) \n",
    "  \n",
    "sent_detector = nltk.data.load('tokenizers/punkt/english.pickle')"
   ]
  },
  {
   "cell_type": "code",
   "execution_count": 22,
   "metadata": {},
   "outputs": [],
   "source": [
    "# splitting the report into pages \n",
    "doc_set= [pdfReader.getPage(k).extractText() for k in range(num) ]\n",
    "for k in range(num):\n",
    "    doc_set[k]=doc_set[k].replace('\\n',\"\")\n",
    "    doc_set[k]=sent_detector.tokenize(doc_set[k].strip())"
   ]
  },
  {
   "cell_type": "code",
   "execution_count": 23,
   "metadata": {},
   "outputs": [],
   "source": [
    "# splitting the document into sentences \n",
    "doc_set=[item for k in range(num) for item in doc_set[k]]\n",
    "# doc_set now contains each sentence of a report as a document "
   ]
  },
  {
   "cell_type": "code",
   "execution_count": 24,
   "metadata": {},
   "outputs": [
    {
     "data": {
      "text/plain": [
       "378"
      ]
     },
     "execution_count": 24,
     "metadata": {},
     "output_type": "execute_result"
    }
   ],
   "source": [
    "len(doc_set)"
   ]
  },
  {
   "cell_type": "code",
   "execution_count": 25,
   "metadata": {},
   "outputs": [],
   "source": [
    "\n",
    "#using the tokenizer and stemmer and stopped tokens \n",
    "texts=[]\n",
    "for i in doc_set:\n",
    "    raw = i.lower()\n",
    "    tokens = tokenizer.tokenize(raw)\n",
    "    \n",
    "\n",
    "    # remove stop words from tokens\n",
    "    stopped_tokens = [i for i in tokens if not i in en_stop]\n",
    "    \n",
    "    #stem tokens\n",
    "    stemmed_tokens = [stemmer.stem(i) for i in stopped_tokens]\n",
    "    \n",
    "    # add tokens to list\n",
    "    texts.append(stopped_tokens)\n"
   ]
  },
  {
   "cell_type": "code",
   "execution_count": 26,
   "metadata": {},
   "outputs": [
    {
     "data": {
      "text/plain": [
       "list"
      ]
     },
     "execution_count": 26,
     "metadata": {},
     "output_type": "execute_result"
    }
   ],
   "source": [
    "type(tokens)"
   ]
  },
  {
   "cell_type": "code",
   "execution_count": 27,
   "metadata": {},
   "outputs": [
    {
     "data": {
      "text/plain": [
       "11"
      ]
     },
     "execution_count": 27,
     "metadata": {},
     "output_type": "execute_result"
    }
   ],
   "source": [
    "len(tokens)"
   ]
  },
  {
   "cell_type": "code",
   "execution_count": 28,
   "metadata": {},
   "outputs": [
    {
     "data": {
      "text/plain": [
       "378"
      ]
     },
     "execution_count": 28,
     "metadata": {},
     "output_type": "execute_result"
    }
   ],
   "source": [
    "len(texts)"
   ]
  },
  {
   "cell_type": "code",
   "execution_count": 29,
   "metadata": {},
   "outputs": [],
   "source": [
    "\n",
    "\n",
    "dictionary = corpora.Dictionary(texts)\n"
   ]
  },
  {
   "cell_type": "code",
   "execution_count": 30,
   "metadata": {},
   "outputs": [
    {
     "data": {
      "text/plain": [
       "1436"
      ]
     },
     "execution_count": 30,
     "metadata": {},
     "output_type": "execute_result"
    }
   ],
   "source": [
    "len(dictionary)"
   ]
  },
  {
   "cell_type": "code",
   "execution_count": 31,
   "metadata": {},
   "outputs": [],
   "source": [
    "corpus = [dictionary.doc2bow(text) for text in texts]\n"
   ]
  },
  {
   "cell_type": "code",
   "execution_count": 32,
   "metadata": {},
   "outputs": [
    {
     "data": {
      "text/plain": [
       "list"
      ]
     },
     "execution_count": 32,
     "metadata": {},
     "output_type": "execute_result"
    }
   ],
   "source": [
    "type(corpus)"
   ]
  },
  {
   "cell_type": "code",
   "execution_count": 33,
   "metadata": {},
   "outputs": [
    {
     "data": {
      "text/plain": [
       "378"
      ]
     },
     "execution_count": 33,
     "metadata": {},
     "output_type": "execute_result"
    }
   ],
   "source": [
    "len(corpus)"
   ]
  },
  {
   "cell_type": "code",
   "execution_count": 34,
   "metadata": {},
   "outputs": [],
   "source": [
    "# training the model \n",
    "ldamodel = gensim.models.ldamodel.LdaModel(corpus, num_topics=15, id2word = dictionary, passes=200)"
   ]
  },
  {
   "cell_type": "code",
   "execution_count": 41,
   "metadata": {},
   "outputs": [
    {
     "name": "stdout",
     "output_type": "stream",
     "text": [
      "0.018*\"therefore\" + 0.013*\"year\" + 0.013*\"economic\" + 0.013*\"10\" + 0.013*\"maintaining\" + 0.010*\"also\" + 0.010*\"inflation\" + 0.009*\"data\" + 0.009*\"growth\" + 0.009*\"decelerated\"\n",
      "/n\n",
      "0.012*\"impact\" + 0.011*\"growth\" + 0.010*\"also\" + 0.010*\"will\" + 0.010*\"euro\" + 0.010*\"area\" + 0.010*\"unchanged\" + 0.007*\"cent\" + 0.007*\"per\" + 0.007*\"ﬁshock\"\n",
      "/n\n",
      "0.044*\"growth\" + 0.020*\"exports\" + 0.019*\"œ\" + 0.016*\"net\" + 0.012*\"december\" + 0.009*\"economic\" + 0.009*\"days\" + 0.009*\"prices\" + 0.009*\"4\" + 0.009*\"imports\"\n",
      "/n\n",
      "0.030*\"inflation\" + 0.021*\"per\" + 0.016*\"cent\" + 0.014*\"prices\" + 0.014*\"oil\" + 0.013*\"also\" + 0.011*\"food\" + 0.009*\"rate\" + 0.009*\"lower\" + 0.007*\"bank\"\n",
      "/n\n",
      "0.048*\"cent\" + 0.048*\"per\" + 0.031*\"inflation\" + 0.030*\"7\" + 0.025*\"4\" + 0.021*\"2\" + 0.017*\"3\" + 0.017*\"20\" + 0.017*\"2019\" + 0.015*\"projected\"\n",
      "/n\n",
      "0.022*\"inflation\" + 0.015*\"prices\" + 0.012*\"domestic\" + 0.011*\"outlook\" + 0.011*\"also\" + 0.009*\"data\" + 0.009*\"oil\" + 0.009*\"october\" + 0.009*\"mainly\" + 0.008*\"time\"\n",
      "/n\n",
      "0.035*\"inflation\" + 0.022*\"oil\" + 0.015*\"prices\" + 0.013*\"risks\" + 0.012*\"s\" + 0.011*\"crude\" + 0.011*\"remain\" + 0.010*\"sector\" + 0.010*\"food\" + 0.009*\"projections\"\n",
      "/n\n",
      "0.027*\"policy\" + 0.022*\"stance\" + 0.019*\"rate\" + 0.016*\"calibrated\" + 0.016*\"tightening\" + 0.014*\"vote\" + 0.011*\"decision\" + 0.011*\"repo\" + 0.010*\"prices\" + 0.010*\"unchanged\"\n",
      "/n\n",
      "0.027*\"growth\" + 0.015*\"inflation\" + 0.012*\"domestic\" + 0.010*\"high\" + 0.010*\"rise\" + 0.008*\"november\" + 0.008*\"basis\" + 0.007*\"term\" + 0.007*\"food\" + 0.006*\"may\"\n",
      "/n\n",
      "0.021*\"growth\" + 0.014*\"october\" + 0.011*\"us\" + 0.011*\"round\" + 0.011*\"november\" + 0.011*\"inflation\" + 0.009*\"oil\" + 0.009*\"declined\" + 0.009*\"prices\" + 0.009*\"remained\"\n",
      "/n\n",
      "0.017*\"prices\" + 0.017*\"growth\" + 0.014*\"food\" + 0.011*\"2018\" + 0.011*\"mpc\" + 0.009*\"months\" + 0.009*\"october\" + 0.009*\"demand\" + 0.009*\"conditions\" + 0.009*\"economy\"\n",
      "/n\n",
      "0.052*\"growth\" + 0.028*\"2018\" + 0.028*\"19\" + 0.026*\"gdp\" + 0.023*\"year\" + 0.020*\"q2\" + 0.019*\"october\" + 0.017*\"slowed\" + 0.013*\"quarter\" + 0.013*\"consumption\"\n",
      "/n\n",
      "0.033*\"dr\" + 0.022*\"inflation\" + 0.012*\"reserve\" + 0.012*\"bank\" + 0.012*\"yes\" + 0.010*\"manufacturing\" + 0.008*\"expectations\" + 0.008*\"forward\" + 0.008*\"month\" + 0.008*\"12\"\n",
      "/n\n",
      "0.049*\"expectations\" + 0.035*\"ahead\" + 0.026*\"inflation\" + 0.023*\"inflationary\" + 0.022*\"month\" + 0.021*\"households\" + 0.020*\"one\" + 0.020*\"year\" + 0.018*\"unchanged\" + 0.018*\"reserve\"\n",
      "/n\n",
      "0.033*\"3\" + 0.033*\"per\" + 0.031*\"cent\" + 0.022*\"october\" + 0.019*\"inflation\" + 0.018*\"5\" + 0.016*\"meeting\" + 0.016*\"2018\" + 0.015*\"policy\" + 0.014*\"bank\"\n",
      "/n\n"
     ]
    }
   ],
   "source": [
    "f=open('topics.txt',\"w\")\n",
    "for k in range(15):\n",
    "    print(ldamodel.print_topics()[k][1])\n",
    "    print('/n')\n",
    "    f.write(ldamodel.print_topics()[k][1] )\n",
    "    f.write('/n')\n",
    "    "
   ]
  },
  {
   "cell_type": "code",
   "execution_count": null,
   "metadata": {},
   "outputs": [],
   "source": [
    "# creating a document to get the document- topic distribution \n",
    "my_doc=pdfReader.getPage(2).extractText()\n",
    "my_doc=dictionary.doc2bow(tokenizer.tokenize(my_doc))"
   ]
  },
  {
   "cell_type": "code",
   "execution_count": 43,
   "metadata": {},
   "outputs": [
    {
     "data": {
      "image/png": "[encoded data removed]",
      "text/plain": [
       "<Figure size 432x288 with 1 Axes>"
      ]
     },
     "metadata": {
      "needs_background": "light"
     },
     "output_type": "display_data"
    }
   ],
   "source": [
    "# checking what is the topic distribution for our document \n",
    "data=ldamodel.get_document_topics(my_doc)\n",
    "x=range(15)\n",
    "y_val=np.zeros(15)\n",
    "for item in data:\n",
    "    y_val[item[0]]=item[1]\n",
    "\n",
    "plt.bar(x,y_val)\n",
    "plt.show()"
   ]
  },
  {
   "cell_type": "code",
   "execution_count": null,
   "metadata": {},
   "outputs": [],
   "source": []
  }
 ],
 "metadata": {
  "kernelspec": {
   "display_name": "Python 3",
   "language": "python",
   "name": "python3"
  },
  "language_info": {
   "codemirror_mode": {
    "name": "ipython",
    "version": 3
   },
   "file_extension": ".py",
   "mimetype": "text/x-python",
   "name": "python",
   "nbconvert_exporter": "python",
   "pygments_lexer": "ipython3",
   "version": "3.7.1"
  }
 },
 "nbformat": 4,
 "nbformat_minor": 2
}
